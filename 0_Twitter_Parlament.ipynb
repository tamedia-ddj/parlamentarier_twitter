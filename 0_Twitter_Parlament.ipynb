{
 "cells": [
  {
   "cell_type": "code",
   "execution_count": 170,
   "metadata": {},
   "outputs": [],
   "source": [
    "import pandas as pd\n",
    "import numpy as np\n",
    "import math\n",
    "import requests\n",
    "from bs4 import BeautifulSoup as bs\n",
    "import time"
   ]
  },
  {
   "cell_type": "code",
   "execution_count": 142,
   "metadata": {},
   "outputs": [],
   "source": [
    "### create function to find twitter-account with google query\n",
    "def google_results(name, party):\n",
    "    \n",
    "    url = 'https://google.com/search?q={}+{}+twitter'.format(name.replace(\" \", \"+\"), party)\n",
    "    # ...wait for it....\n",
    "    time.sleep(1)\n",
    "    \n",
    "    response = requests.get(url)\n",
    "    soup = bs(response.text, 'html.parser')\n",
    "    twitter_handle = soup.cite.text\n",
    "    \n",
    "    return twitter_handle"
   ]
  },
  {
   "cell_type": "code",
   "execution_count": 133,
   "metadata": {},
   "outputs": [],
   "source": [
    "nationalrat = pd.read_html(\"https://de.wikipedia.org/wiki/Liste_der_Mitglieder_des_Schweizer_Nationalrats_in_der_50._Legislaturperiode\")[0]\n",
    "staenderat = pd.read_html(\"https://de.wikipedia.org/wiki/Liste_der_Mitglieder_des_Schweizer_St%C3%A4nderats_in_der_50._Legislaturperiode\")[0]"
   ]
  },
  {
   "cell_type": "code",
   "execution_count": 134,
   "metadata": {},
   "outputs": [],
   "source": [
    "nationalrat = nationalrat[[\"Name\", \"Partei\", \"Kanton\"]]\n",
    "nationalrat[\"Rat\"] = \"nr\""
   ]
  },
  {
   "cell_type": "code",
   "execution_count": 135,
   "metadata": {},
   "outputs": [],
   "source": [
    "staenderat = staenderat[[\"Name\", \"Partei\", \"Kanton\"]]\n",
    "staenderat[\"Rat\"] = \"sr\""
   ]
  },
  {
   "cell_type": "code",
   "execution_count": 138,
   "metadata": {
    "scrolled": true
   },
   "outputs": [],
   "source": [
    "parlament = nationalrat.append(staenderat).reset_index().drop(columns=[\"index\"])"
   ]
  },
  {
   "cell_type": "code",
   "execution_count": 143,
   "metadata": {},
   "outputs": [],
   "source": [
    "twitter_info_list = []\n",
    "for idx, row in parlament.iterrows():\n",
    "    twitter_info_list.append([row[\"Name\"], row[\"Partei\"], google_results(row[\"Name\"], row[\"Partei\"])])"
   ]
  },
  {
   "cell_type": "code",
   "execution_count": 144,
   "metadata": {},
   "outputs": [],
   "source": [
    "twitter_info = pd.DataFrame(twitter_info_list)\n",
    "twitter_info.columns = [\"name\", \"party\", \"url\"]"
   ]
  },
  {
   "cell_type": "code",
   "execution_count": 146,
   "metadata": {},
   "outputs": [],
   "source": [
    "def extract_handle(url):\n",
    "    if (url.find(\"twitter\") > -1):\n",
    "        if len(url.split('/')) == 4:\n",
    "            return(url.split('/')[3].split('?')[0])\n",
    "        "
   ]
  },
  {
   "cell_type": "code",
   "execution_count": 147,
   "metadata": {},
   "outputs": [],
   "source": [
    "twitter_info[\"twitter_handle\"] = twitter_info.url.apply(extract_handle)"
   ]
  },
  {
   "cell_type": "code",
   "execution_count": 149,
   "metadata": {},
   "outputs": [],
   "source": [
    "### export for manual corrections\n",
    "twitter_info.to_csv(\"data/twitter_accounts_2019.csv\")"
   ]
  },
  {
   "cell_type": "code",
   "execution_count": 283,
   "metadata": {},
   "outputs": [],
   "source": [
    "### import corrected data\n",
    "twitter_info_edited = pd.read_csv(\"data/twitter_accounts_2019_edited.csv\", index_col=0)"
   ]
  },
  {
   "cell_type": "code",
   "execution_count": 286,
   "metadata": {},
   "outputs": [],
   "source": [
    "twitter_users = twitter_info_edited[(twitter_info_edited['twitter_handle'].notnull())]"
   ]
  },
  {
   "cell_type": "code",
   "execution_count": 287,
   "metadata": {
    "scrolled": true
   },
   "outputs": [],
   "source": [
    "twitter_users = twitter_users.drop(columns = [\"edited\"])"
   ]
  },
  {
   "cell_type": "code",
   "execution_count": 288,
   "metadata": {},
   "outputs": [],
   "source": [
    "import tweepy"
   ]
  },
  {
   "cell_type": "code",
   "execution_count": 191,
   "metadata": {},
   "outputs": [],
   "source": [
    "consumer_key = \"QiFcycH0Dkh2qUMKiEz6KagWy\"\n",
    "consumer_secret = \"RJXtTYRe0lI47SXvTVcQZxnihOM7CQW88O9BptgWRWVOGQIlKU\"\n",
    "access_token = \"20507198-nXLoFruaOgKrQZiorgJ8SJcISI9DLu1DETgHiiAWq\"\n",
    "access_token_secret = \"YO2VQm3frJpVSCcjXFSGynQHeBMbKi3kjj1IkvKcXE3XA\"\n",
    "auth = tweepy.OAuthHandler(consumer_key, consumer_secret)\n",
    "auth.set_access_token(access_token, access_token_secret)"
   ]
  },
  {
   "cell_type": "code",
   "execution_count": 198,
   "metadata": {},
   "outputs": [],
   "source": [
    "api = tweepy.API(auth)"
   ]
  },
  {
   "cell_type": "code",
   "execution_count": 229,
   "metadata": {},
   "outputs": [
    {
     "data": {
      "text/plain": [
       "256863130"
      ]
     },
     "execution_count": 229,
     "metadata": {},
     "output_type": "execute_result"
    }
   ],
   "source": [
    "user._json[\"id\"]"
   ]
  },
  {
   "cell_type": "code",
   "execution_count": 295,
   "metadata": {},
   "outputs": [],
   "source": [
    "### Collect User-Ids\n",
    "def get_twitter_id(username):\n",
    "    user = api.get_user(username)\n",
    "    return user._json[\"id\"]\n",
    "    \n",
    "twitter_users[\"user_id\"] = twitter_users.twitter_handle.apply(get_twitter_id)"
   ]
  },
  {
   "cell_type": "code",
   "execution_count": 350,
   "metadata": {
    "scrolled": true
   },
   "outputs": [],
   "source": [
    "twitter_users[\"user_id\"] = twitter_users[\"user_id\"].astype(str)"
   ]
  },
  {
   "cell_type": "code",
   "execution_count": null,
   "metadata": {},
   "outputs": [],
   "source": [
    "follower_list = pd.DataFrame(columns=[\"Name\", \"Party\", \"Handle\", \"Twitter_ID\", \"Follower_ID\"])"
   ]
  },
  {
   "cell_type": "code",
   "execution_count": 452,
   "metadata": {},
   "outputs": [
    {
     "name": "stdout",
     "output_type": "stream",
     "text": [
      "enussbi\n",
      "paganini_nr\n",
      "robipanta\n",
      "gerhardpfister\n",
      "valerie_piller\n",
      "hpportmann\n",
      "quadrantir\n",
      "lorenzquadri\n",
      "fregazzi\n",
      "lukasreimann\n",
      "maximilian_rei\n",
      "mathiasreynard\n",
      "natalierickli\n",
      "kathyriklin\n",
      "jfrime\n",
      "roduitbenjamin\n",
      "marcoromanoppd\n",
      "regularytz\n",
      "wernersalzmann\n",
      "regine_sauter\n",
      "schenkersilvia\n",
      "schneedani67\n",
      "elisabeth_s_s\n",
      "uschneiderschue\n",
      "seilergraf\n",
      "h_siegenthaler\n",
      "carlosommaruga\n",
      "luzistamm\n",
      "babasteinemann\n",
      "adelethorens\n",
      "mtoengi\n",
      "manueltornare\n",
      "alinetrede\n",
      "m_tuena\n",
      "hansuelivogt\n",
      "cwasi\n",
      "fwasserfallen\n",
      "laurentwehrli\n",
      "cedricwermuth\n",
      "adrianwuethrich\n",
      "zac1967\n",
      "pirminbischof\n",
      "pascalebruderer\n",
      "andreacaroniar\n",
      "raphaelcomtece\n",
      "robertcramer_ge\n",
      "engler_stefan\n",
      "e_ettlin\n",
      "JR_Fournier\n",
      "olifrancais\n",
      "graberkonrad\n",
      "ruedinoser\n",
      "b_haeberli\n",
      "werner_hoesli\n",
      "ClaudeJaniak\n",
      "danieljositsch\n",
      "christianlevrat\n",
      "lombardi1956\n",
      "w_luginbuehl\n",
      "damian_mueller_\n",
      "paulrechsteiner\n",
      "riederbeat\n",
      "beat_vonlanthen\n",
      "zanettiroberto\n",
      "mike_egger\n",
      "pmbregy\n"
     ]
    }
   ],
   "source": [
    "for idx, row in twitter_users[89:].iterrows():\n",
    "    ids = []\n",
    "    for page in tweepy.Cursor(api.followers_ids, screen_name=row.twitter_handle).pages():\n",
    "        ids.extend(page)\n",
    "        time.sleep(60)\n",
    "    for follower in ids:\n",
    "        if ((twitter_users['user_id'].astype(str) == str(follower)).any()):\n",
    "            follower_list = follower_list.append(pd.DataFrame({\"Name\": row.name,\n",
    "                                                               \"Party\": row.party,\n",
    "                                                               \"Handle\": row.twitter_handle,\n",
    "                                                               \"Twitter_ID\": row.user_id,\n",
    "                                                               \"Follower_ID\": str(follower)\n",
    "                                                              }, index=[0]), ignore_index=True)\n",
    "    print(row.twitter_handle)"
   ]
  },
  {
   "cell_type": "code",
   "execution_count": 595,
   "metadata": {},
   "outputs": [
    {
     "data": {
      "text/plain": [
       "155"
      ]
     },
     "execution_count": 595,
     "metadata": {},
     "output_type": "execute_result"
    }
   ],
   "source": [
    "len(twitter_users)"
   ]
  },
  {
   "cell_type": "code",
   "execution_count": null,
   "metadata": {},
   "outputs": [],
   "source": []
  },
  {
   "cell_type": "code",
   "execution_count": null,
   "metadata": {},
   "outputs": [],
   "source": []
  },
  {
   "cell_type": "code",
   "execution_count": 453,
   "metadata": {},
   "outputs": [],
   "source": [
    "follower_list.to_pickle(\"data/follower_all.pkl\")"
   ]
  },
  {
   "cell_type": "code",
   "execution_count": 434,
   "metadata": {},
   "outputs": [],
   "source": [
    "follower_list = pd.read_pickle(\"data/follower_all.pkl\")"
   ]
  },
  {
   "cell_type": "code",
   "execution_count": 455,
   "metadata": {},
   "outputs": [],
   "source": [
    "follower_list_red = follower_list[follower_list['Follower_ID'].isin(twitter_users['user_id'].astype(str))]"
   ]
  },
  {
   "cell_type": "code",
   "execution_count": 456,
   "metadata": {
    "scrolled": true
   },
   "outputs": [],
   "source": [
    "followers_complete = pd.merge(follower_list_red,\n",
    "                              twitter_users[[\"user_id\", \"name\", \"twitter_handle\", \"party\"]],\n",
    "                              left_on=\"Follower_ID\",\n",
    "                              right_on=\"user_id\",\n",
    "                              how=\"left\")"
   ]
  },
  {
   "cell_type": "code",
   "execution_count": 457,
   "metadata": {},
   "outputs": [],
   "source": [
    "# Re-Order and Clean DataFrame\n",
    "followers_complete = pd.merge(followers_complete,\n",
    "                             twitter_users[[\"name\", \"twitter_handle\"]],\n",
    "                             left_on=\"Handle\",\n",
    "                             right_on=\"twitter_handle\",\n",
    "                             how=\"left\")"
   ]
  },
  {
   "cell_type": "code",
   "execution_count": 458,
   "metadata": {},
   "outputs": [],
   "source": [
    "followers_complete = followers_complete[[\"name_y\", \"Name\", \"Party\", \"Handle\", \"Twitter_ID\", \"Follower_ID\", \"user_id\", \"name_x\", \"twitter_handle_x\", \"party\", \"twitter_handle_y\"]]\n"
   ]
  },
  {
   "cell_type": "code",
   "execution_count": 459,
   "metadata": {},
   "outputs": [],
   "source": [
    "followers_complete = followers_complete.drop(columns=[\"Name\", \"twitter_handle_y\", \"user_id\"])"
   ]
  },
  {
   "cell_type": "code",
   "execution_count": 460,
   "metadata": {},
   "outputs": [],
   "source": [
    "followers_complete.columns = [\"user_Name\", \"user_Party\", \"user_Handle\", \"user_ID\", \"follower_ID\", \"follower_Name\", \"follower_Handle\", \"follower_Party\"]"
   ]
  },
  {
   "cell_type": "code",
   "execution_count": 461,
   "metadata": {},
   "outputs": [],
   "source": [
    "def party_scale(party):\n",
    "    scale = {\n",
    "        \"sp\": 1,\n",
    "        \"gps\": 2,\n",
    "        \"evp\": 3,\n",
    "        \"glp\": 4,\n",
    "        \"cvp\": 5,\n",
    "        \"bdp\": 6,\n",
    "        \"fdp\": 7,\n",
    "        \"lega\": 8,\n",
    "        \"mcg\": 9,\n",
    "        \"svp\": 10\n",
    "    }\n",
    "    return scale[party.lower()]"
   ]
  },
  {
   "cell_type": "code",
   "execution_count": 462,
   "metadata": {},
   "outputs": [],
   "source": [
    "followers_complete[\"user_Party_Scale\"] = followers_complete[\"user_Party\"].apply(party_scale)\n",
    "followers_complete[\"follower_Party_Scale\"] = followers_complete[\"follower_Party\"].apply(party_scale)"
   ]
  },
  {
   "cell_type": "code",
   "execution_count": 463,
   "metadata": {},
   "outputs": [],
   "source": [
    "followers_complete[\"Scale_Diff\"] = abs(followers_complete[\"user_Party_Scale\"] - followers_complete[\"follower_Party_Scale\"])"
   ]
  },
  {
   "cell_type": "code",
   "execution_count": 554,
   "metadata": {
    "collapsed": true
   },
   "outputs": [
    {
     "name": "stderr",
     "output_type": "stream",
     "text": [
      "/Users/sco/miniconda3/lib/python3.7/site-packages/ipykernel_launcher.py:2: SettingWithCopyWarning: \n",
      "A value is trying to be set on a copy of a slice from a DataFrame\n",
      "\n",
      "See the caveats in the documentation: http://pandas.pydata.org/pandas-docs/stable/indexing.html#indexing-view-versus-copy\n",
      "  \n",
      "/Users/sco/miniconda3/lib/python3.7/site-packages/ipykernel_launcher.py:3: SettingWithCopyWarning: \n",
      "A value is trying to be set on a copy of a slice from a DataFrame\n",
      "\n",
      "See the caveats in the documentation: http://pandas.pydata.org/pandas-docs/stable/indexing.html#indexing-view-versus-copy\n",
      "  This is separate from the ipykernel package so we can avoid doing imports until\n",
      "/Users/sco/miniconda3/lib/python3.7/site-packages/ipykernel_launcher.py:5: SettingWithCopyWarning: \n",
      "A value is trying to be set on a copy of a slice from a DataFrame\n",
      "\n",
      "See the caveats in the documentation: http://pandas.pydata.org/pandas-docs/stable/indexing.html#indexing-view-versus-copy\n",
      "  \"\"\"\n",
      "/Users/sco/miniconda3/lib/python3.7/site-packages/ipykernel_launcher.py:6: SettingWithCopyWarning: \n",
      "A value is trying to be set on a copy of a slice from a DataFrame\n",
      "\n",
      "See the caveats in the documentation: http://pandas.pydata.org/pandas-docs/stable/indexing.html#indexing-view-versus-copy\n",
      "  \n",
      "/Users/sco/miniconda3/lib/python3.7/site-packages/ipykernel_launcher.py:8: SettingWithCopyWarning: \n",
      "A value is trying to be set on a copy of a slice from a DataFrame\n",
      "\n",
      "See the caveats in the documentation: http://pandas.pydata.org/pandas-docs/stable/indexing.html#indexing-view-versus-copy\n",
      "  \n",
      "/Users/sco/miniconda3/lib/python3.7/site-packages/ipykernel_launcher.py:9: SettingWithCopyWarning: \n",
      "A value is trying to be set on a copy of a slice from a DataFrame\n",
      "\n",
      "See the caveats in the documentation: http://pandas.pydata.org/pandas-docs/stable/indexing.html#indexing-view-versus-copy\n",
      "  if __name__ == '__main__':\n"
     ]
    }
   ],
   "source": [
    "## Fraktionen statt Partien benutzen\n",
    "followers_complete.user_Party[followers_complete.user_Party == \"Lega\"] = \"SVP\"\n",
    "followers_complete.follower_Party[followers_complete.follower_Party == \"Lega\"] = \"SVP\"\n",
    "\n",
    "followers_complete.user_Party[followers_complete.user_Party == \"EVP\"] = \"CVP\"\n",
    "followers_complete.follower_Party[followers_complete.follower_Party == \"EVP\"] = \"CVP\"\n",
    "\n",
    "followers_complete.user_Party[followers_complete.user_Party == \"EVP\"] = \"CVP\"\n",
    "followers_complete.follower_Party[followers_complete.follower_Party == \"EVP\"] = \"CVP\""
   ]
  },
  {
   "cell_type": "code",
   "execution_count": null,
   "metadata": {},
   "outputs": [],
   "source": []
  },
  {
   "cell_type": "code",
   "execution_count": 697,
   "metadata": {},
   "outputs": [],
   "source": [
    "followers_complete.to_pickle(\"data/followers_complete.pkl\")"
   ]
  },
  {
   "cell_type": "code",
   "execution_count": null,
   "metadata": {},
   "outputs": [],
   "source": []
  },
  {
   "cell_type": "code",
   "execution_count": null,
   "metadata": {},
   "outputs": [],
   "source": []
  },
  {
   "cell_type": "code",
   "execution_count": null,
   "metadata": {},
   "outputs": [],
   "source": []
  },
  {
   "cell_type": "code",
   "execution_count": 637,
   "metadata": {},
   "outputs": [],
   "source": [
    "follower_party_data = followers_complete[[\"follower_Party\", \"Scale_Diff\"]].groupby([\"follower_Party\"]).sum().reset_index()"
   ]
  },
  {
   "cell_type": "code",
   "execution_count": 638,
   "metadata": {},
   "outputs": [],
   "source": [
    "follower_party_data[\"Count\"] = followers_complete[[\"follower_Party\", \"Scale_Diff\"]].groupby([\"follower_Party\"]).count().reset_index()[\"Scale_Diff\"]"
   ]
  },
  {
   "cell_type": "code",
   "execution_count": 639,
   "metadata": {},
   "outputs": [],
   "source": [
    "follower_party_data[\"Distance_of_Parties\"] = follower_party_data[\"Scale_Diff\"] / follower_party_data[\"Count\"]"
   ]
  },
  {
   "cell_type": "code",
   "execution_count": 640,
   "metadata": {},
   "outputs": [],
   "source": [
    "follower_party_data[\"Amount_of_Foreign_Users\"] = followers_complete[[\"follower_Party\", \"Scale_Diff\"]][followers_complete[\"user_Party\"] != followers_complete[\"follower_Party\"]].groupby([\"follower_Party\"]).count().reset_index()[\"Scale_Diff\"]"
   ]
  },
  {
   "cell_type": "code",
   "execution_count": 641,
   "metadata": {},
   "outputs": [],
   "source": [
    "follower_party_data[\"Share_of_Foreign_Users\"] = follower_party_data[\"Amount_of_Foreign_Users\"] / follower_party_data[\"Count\"]"
   ]
  },
  {
   "cell_type": "code",
   "execution_count": 642,
   "metadata": {},
   "outputs": [],
   "source": [
    "follower_party_data[\"Number_of_Accounts\"] = followers_complete[[\"follower_Party\", \"follower_ID\"]].groupby([\"follower_Party\", \"follower_ID\"]).count().reset_index().groupby([\"follower_Party\"]).count().reset_index()[\"follower_ID\"]"
   ]
  },
  {
   "cell_type": "code",
   "execution_count": 643,
   "metadata": {},
   "outputs": [
    {
     "data": {
      "text/html": [
       "<div>\n",
       "<style scoped>\n",
       "    .dataframe tbody tr th:only-of-type {\n",
       "        vertical-align: middle;\n",
       "    }\n",
       "\n",
       "    .dataframe tbody tr th {\n",
       "        vertical-align: top;\n",
       "    }\n",
       "\n",
       "    .dataframe thead th {\n",
       "        text-align: right;\n",
       "    }\n",
       "</style>\n",
       "<table border=\"1\" class=\"dataframe\">\n",
       "  <thead>\n",
       "    <tr style=\"text-align: right;\">\n",
       "      <th></th>\n",
       "      <th>follower_Party</th>\n",
       "      <th>Scale_Diff</th>\n",
       "      <th>Count</th>\n",
       "      <th>Distance_of_Parties</th>\n",
       "      <th>Amount_of_Foreign_Users</th>\n",
       "      <th>Share_of_Foreign_Users</th>\n",
       "      <th>Number_of_Accounts</th>\n",
       "    </tr>\n",
       "  </thead>\n",
       "  <tbody>\n",
       "    <tr>\n",
       "      <th>6</th>\n",
       "      <td>glp</td>\n",
       "      <td>1087</td>\n",
       "      <td>398</td>\n",
       "      <td>2.731156</td>\n",
       "      <td>370</td>\n",
       "      <td>0.929648</td>\n",
       "      <td>6</td>\n",
       "    </tr>\n",
       "    <tr>\n",
       "      <th>0</th>\n",
       "      <td>BDP</td>\n",
       "      <td>711</td>\n",
       "      <td>287</td>\n",
       "      <td>2.477352</td>\n",
       "      <td>251</td>\n",
       "      <td>0.874564</td>\n",
       "      <td>7</td>\n",
       "    </tr>\n",
       "    <tr>\n",
       "      <th>3</th>\n",
       "      <td>GPS</td>\n",
       "      <td>1104</td>\n",
       "      <td>500</td>\n",
       "      <td>2.208000</td>\n",
       "      <td>422</td>\n",
       "      <td>0.844000</td>\n",
       "      <td>10</td>\n",
       "    </tr>\n",
       "    <tr>\n",
       "      <th>2</th>\n",
       "      <td>FDP</td>\n",
       "      <td>3368</td>\n",
       "      <td>1170</td>\n",
       "      <td>2.878632</td>\n",
       "      <td>855</td>\n",
       "      <td>0.730769</td>\n",
       "      <td>25</td>\n",
       "    </tr>\n",
       "    <tr>\n",
       "      <th>5</th>\n",
       "      <td>SVP</td>\n",
       "      <td>3052</td>\n",
       "      <td>815</td>\n",
       "      <td>3.744785</td>\n",
       "      <td>522</td>\n",
       "      <td>0.640491</td>\n",
       "      <td>31</td>\n",
       "    </tr>\n",
       "    <tr>\n",
       "      <th>1</th>\n",
       "      <td>CVP</td>\n",
       "      <td>2376</td>\n",
       "      <td>1287</td>\n",
       "      <td>1.846154</td>\n",
       "      <td>770</td>\n",
       "      <td>0.598291</td>\n",
       "      <td>29</td>\n",
       "    </tr>\n",
       "    <tr>\n",
       "      <th>4</th>\n",
       "      <td>SP</td>\n",
       "      <td>5596</td>\n",
       "      <td>2440</td>\n",
       "      <td>2.293443</td>\n",
       "      <td>1228</td>\n",
       "      <td>0.503279</td>\n",
       "      <td>40</td>\n",
       "    </tr>\n",
       "  </tbody>\n",
       "</table>\n",
       "</div>"
      ],
      "text/plain": [
       "  follower_Party  Scale_Diff  Count  Distance_of_Parties  \\\n",
       "6            glp        1087    398             2.731156   \n",
       "0            BDP         711    287             2.477352   \n",
       "3            GPS        1104    500             2.208000   \n",
       "2            FDP        3368   1170             2.878632   \n",
       "5            SVP        3052    815             3.744785   \n",
       "1            CVP        2376   1287             1.846154   \n",
       "4             SP        5596   2440             2.293443   \n",
       "\n",
       "   Amount_of_Foreign_Users  Share_of_Foreign_Users  Number_of_Accounts  \n",
       "6                      370                0.929648                   6  \n",
       "0                      251                0.874564                   7  \n",
       "3                      422                0.844000                  10  \n",
       "2                      855                0.730769                  25  \n",
       "5                      522                0.640491                  31  \n",
       "1                      770                0.598291                  29  \n",
       "4                     1228                0.503279                  40  "
      ]
     },
     "execution_count": 643,
     "metadata": {},
     "output_type": "execute_result"
    }
   ],
   "source": [
    "follower_party_data.sort_values(by=['Share_of_Foreign_Users'], ascending=False)"
   ]
  },
  {
   "cell_type": "code",
   "execution_count": 644,
   "metadata": {},
   "outputs": [],
   "source": [
    "user_party_data = followers_complete[[\"user_Party\", \"Scale_Diff\"]].groupby([\"user_Party\"]).sum().reset_index()\n",
    "user_party_data[\"Count\"] = followers_complete[[\"user_Party\", \"Scale_Diff\"]].groupby([\"user_Party\"]).count().reset_index()[\"Scale_Diff\"]\n",
    "user_party_data[\"Distance_of_Parties\"] = user_party_data[\"Scale_Diff\"] / user_party_data[\"Count\"]\n",
    "user_party_data[\"Amount_of_Foreign_Users\"] = followers_complete[[\"user_Party\", \"Scale_Diff\"]][followers_complete[\"user_Party\"] != followers_complete[\"follower_Party\"]].groupby([\"user_Party\"]).count().reset_index()[\"Scale_Diff\"]\n",
    "user_party_data[\"Share_of_Foreign_Users\"] = user_party_data[\"Amount_of_Foreign_Users\"] / user_party_data[\"Count\"]\n",
    "user_party_data[\"Number_of_Accounts\"] = followers_complete[[\"user_Party\", \"user_ID\"]].groupby([\"user_Party\", \"user_ID\"]).count().reset_index().groupby([\"user_Party\"]).count().reset_index()[\"user_ID\"]\n",
    "user_party_data[\"Percentage_of_own_party\"] = "
   ]
  },
  {
   "cell_type": "code",
   "execution_count": 669,
   "metadata": {},
   "outputs": [],
   "source": [
    "user_party_data = followers_complete[[\"user_Party\", \"user_ID\"]].groupby([\"user_Party\", \"user_ID\"]).count().reset_index().groupby([\"user_Party\"]).count().reset_index()"
   ]
  },
  {
   "cell_type": "code",
   "execution_count": 670,
   "metadata": {
    "scrolled": true
   },
   "outputs": [
    {
     "data": {
      "text/html": [
       "<div>\n",
       "<style scoped>\n",
       "    .dataframe tbody tr th:only-of-type {\n",
       "        vertical-align: middle;\n",
       "    }\n",
       "\n",
       "    .dataframe tbody tr th {\n",
       "        vertical-align: top;\n",
       "    }\n",
       "\n",
       "    .dataframe thead th {\n",
       "        text-align: right;\n",
       "    }\n",
       "</style>\n",
       "<table border=\"1\" class=\"dataframe\">\n",
       "  <thead>\n",
       "    <tr style=\"text-align: right;\">\n",
       "      <th></th>\n",
       "      <th>user_Party</th>\n",
       "      <th>user_ID</th>\n",
       "    </tr>\n",
       "  </thead>\n",
       "  <tbody>\n",
       "    <tr>\n",
       "      <th>0</th>\n",
       "      <td>BDP</td>\n",
       "      <td>7</td>\n",
       "    </tr>\n",
       "    <tr>\n",
       "      <th>1</th>\n",
       "      <td>CVP</td>\n",
       "      <td>30</td>\n",
       "    </tr>\n",
       "    <tr>\n",
       "      <th>2</th>\n",
       "      <td>FDP</td>\n",
       "      <td>26</td>\n",
       "    </tr>\n",
       "    <tr>\n",
       "      <th>3</th>\n",
       "      <td>GPS</td>\n",
       "      <td>10</td>\n",
       "    </tr>\n",
       "    <tr>\n",
       "      <th>4</th>\n",
       "      <td>SP</td>\n",
       "      <td>41</td>\n",
       "    </tr>\n",
       "    <tr>\n",
       "      <th>5</th>\n",
       "      <td>SVP</td>\n",
       "      <td>34</td>\n",
       "    </tr>\n",
       "    <tr>\n",
       "      <th>6</th>\n",
       "      <td>glp</td>\n",
       "      <td>6</td>\n",
       "    </tr>\n",
       "  </tbody>\n",
       "</table>\n",
       "</div>"
      ],
      "text/plain": [
       "  user_Party  user_ID\n",
       "0        BDP        7\n",
       "1        CVP       30\n",
       "2        FDP       26\n",
       "3        GPS       10\n",
       "4         SP       41\n",
       "5        SVP       34\n",
       "6        glp        6"
      ]
     },
     "execution_count": 670,
     "metadata": {},
     "output_type": "execute_result"
    }
   ],
   "source": [
    "user_party_data"
   ]
  },
  {
   "cell_type": "code",
   "execution_count": 693,
   "metadata": {},
   "outputs": [
    {
     "data": {
      "text/plain": [
       "30.3"
      ]
     },
     "execution_count": 693,
     "metadata": {},
     "output_type": "execute_result"
    }
   ],
   "source": [
    "len(followers_complete[(followers_complete.follower_Party == \"SP\") & (followers_complete.user_Party == \"SP\")]) / len(followers_complete[(followers_complete.follower_Party == \"SP\")].follower_ID.unique())"
   ]
  },
  {
   "cell_type": "code",
   "execution_count": 692,
   "metadata": {
    "scrolled": true
   },
   "outputs": [
    {
     "data": {
      "text/plain": [
       "30.7"
      ]
     },
     "execution_count": 692,
     "metadata": {},
     "output_type": "execute_result"
    }
   ],
   "source": [
    "len(followers_complete[(followers_complete.follower_Party == \"SP\") & (followers_complete.user_Party != \"SP\")]) / len(followers_complete[(followers_complete.follower_Party == \"SP\")].follower_ID.unique())"
   ]
  },
  {
   "cell_type": "code",
   "execution_count": 691,
   "metadata": {},
   "outputs": [
    {
     "data": {
      "text/plain": [
       "40"
      ]
     },
     "execution_count": 691,
     "metadata": {},
     "output_type": "execute_result"
    }
   ],
   "source": [
    "len(followers_complete[(followers_complete.follower_Party == \"SP\")].follower_ID.unique())"
   ]
  },
  {
   "cell_type": "code",
   "execution_count": 694,
   "metadata": {},
   "outputs": [
    {
     "data": {
      "text/plain": [
       "1212"
      ]
     },
     "execution_count": 694,
     "metadata": {},
     "output_type": "execute_result"
    }
   ],
   "source": [
    "len(followers_complete[(followers_complete.follower_Party == \"SP\") & (followers_complete.user_Party == \"SP\")])"
   ]
  },
  {
   "cell_type": "code",
   "execution_count": 696,
   "metadata": {},
   "outputs": [
    {
     "data": {
      "text/plain": [
       "1228"
      ]
     },
     "execution_count": 696,
     "metadata": {},
     "output_type": "execute_result"
    }
   ],
   "source": [
    "len(followers_complete[(followers_complete.follower_Party == \"SP\") & (followers_complete.user_Party != \"SP\")])"
   ]
  },
  {
   "cell_type": "code",
   "execution_count": null,
   "metadata": {},
   "outputs": [],
   "source": [
    "def"
   ]
  },
  {
   "cell_type": "code",
   "execution_count": null,
   "metadata": {},
   "outputs": [],
   "source": []
  },
  {
   "cell_type": "code",
   "execution_count": null,
   "metadata": {},
   "outputs": [],
   "source": []
  },
  {
   "cell_type": "code",
   "execution_count": 645,
   "metadata": {},
   "outputs": [
    {
     "data": {
      "text/html": [
       "<div>\n",
       "<style scoped>\n",
       "    .dataframe tbody tr th:only-of-type {\n",
       "        vertical-align: middle;\n",
       "    }\n",
       "\n",
       "    .dataframe tbody tr th {\n",
       "        vertical-align: top;\n",
       "    }\n",
       "\n",
       "    .dataframe thead th {\n",
       "        text-align: right;\n",
       "    }\n",
       "</style>\n",
       "<table border=\"1\" class=\"dataframe\">\n",
       "  <thead>\n",
       "    <tr style=\"text-align: right;\">\n",
       "      <th></th>\n",
       "      <th>user_Party</th>\n",
       "      <th>Scale_Diff</th>\n",
       "      <th>Count</th>\n",
       "      <th>Distance_of_Parties</th>\n",
       "      <th>Amount_of_Foreign_Users</th>\n",
       "      <th>Share_of_Foreign_Users</th>\n",
       "      <th>Number_of_Accounts</th>\n",
       "    </tr>\n",
       "  </thead>\n",
       "  <tbody>\n",
       "    <tr>\n",
       "      <th>6</th>\n",
       "      <td>glp</td>\n",
       "      <td>873</td>\n",
       "      <td>357</td>\n",
       "      <td>2.445378</td>\n",
       "      <td>329</td>\n",
       "      <td>0.921569</td>\n",
       "      <td>6</td>\n",
       "    </tr>\n",
       "    <tr>\n",
       "      <th>0</th>\n",
       "      <td>BDP</td>\n",
       "      <td>777</td>\n",
       "      <td>294</td>\n",
       "      <td>2.642857</td>\n",
       "      <td>258</td>\n",
       "      <td>0.877551</td>\n",
       "      <td>7</td>\n",
       "    </tr>\n",
       "    <tr>\n",
       "      <th>3</th>\n",
       "      <td>GPS</td>\n",
       "      <td>1350</td>\n",
       "      <td>561</td>\n",
       "      <td>2.406417</td>\n",
       "      <td>483</td>\n",
       "      <td>0.860963</td>\n",
       "      <td>10</td>\n",
       "    </tr>\n",
       "    <tr>\n",
       "      <th>2</th>\n",
       "      <td>FDP</td>\n",
       "      <td>3121</td>\n",
       "      <td>1117</td>\n",
       "      <td>2.794091</td>\n",
       "      <td>802</td>\n",
       "      <td>0.717995</td>\n",
       "      <td>26</td>\n",
       "    </tr>\n",
       "    <tr>\n",
       "      <th>5</th>\n",
       "      <td>SVP</td>\n",
       "      <td>3248</td>\n",
       "      <td>850</td>\n",
       "      <td>3.821176</td>\n",
       "      <td>557</td>\n",
       "      <td>0.655294</td>\n",
       "      <td>34</td>\n",
       "    </tr>\n",
       "    <tr>\n",
       "      <th>1</th>\n",
       "      <td>CVP</td>\n",
       "      <td>2580</td>\n",
       "      <td>1345</td>\n",
       "      <td>1.918216</td>\n",
       "      <td>828</td>\n",
       "      <td>0.615613</td>\n",
       "      <td>30</td>\n",
       "    </tr>\n",
       "    <tr>\n",
       "      <th>4</th>\n",
       "      <td>SP</td>\n",
       "      <td>5345</td>\n",
       "      <td>2373</td>\n",
       "      <td>2.252423</td>\n",
       "      <td>1161</td>\n",
       "      <td>0.489254</td>\n",
       "      <td>41</td>\n",
       "    </tr>\n",
       "  </tbody>\n",
       "</table>\n",
       "</div>"
      ],
      "text/plain": [
       "  user_Party  Scale_Diff  Count  Distance_of_Parties  Amount_of_Foreign_Users  \\\n",
       "6        glp         873    357             2.445378                      329   \n",
       "0        BDP         777    294             2.642857                      258   \n",
       "3        GPS        1350    561             2.406417                      483   \n",
       "2        FDP        3121   1117             2.794091                      802   \n",
       "5        SVP        3248    850             3.821176                      557   \n",
       "1        CVP        2580   1345             1.918216                      828   \n",
       "4         SP        5345   2373             2.252423                     1161   \n",
       "\n",
       "   Share_of_Foreign_Users  Number_of_Accounts  \n",
       "6                0.921569                   6  \n",
       "0                0.877551                   7  \n",
       "3                0.860963                  10  \n",
       "2                0.717995                  26  \n",
       "5                0.655294                  34  \n",
       "1                0.615613                  30  \n",
       "4                0.489254                  41  "
      ]
     },
     "execution_count": 645,
     "metadata": {},
     "output_type": "execute_result"
    }
   ],
   "source": [
    "user_party_data.sort_values(by=['Share_of_Foreign_Users'], ascending=False)"
   ]
  },
  {
   "cell_type": "code",
   "execution_count": 646,
   "metadata": {},
   "outputs": [],
   "source": [
    "## Tabelle der Parteien exportieren\n",
    "party_follower = follower_party_data.sort_values(by=['Share_of_Foreign_Users'], ascending=False)[[\"follower_Party\", \"Count\", \"Amount_of_Foreign_Users\", \"Share_of_Foreign_Users\", \"Number_of_Accounts\"]]\n",
    "party_user = user_party_data.sort_values(by=['Share_of_Foreign_Users'], ascending=False)[[\"user_Party\", \"Count\", \"Amount_of_Foreign_Users\", \"Share_of_Foreign_Users\", \"Number_of_Accounts\"]]\n",
    "\n",
    "with pd.ExcelWriter('data/Rangliste_Fraktionen.xlsx') as writer:\n",
    "    party_follower.to_excel(writer, sheet_name='Follower', index=False)\n",
    "    party_user.to_excel(writer, sheet_name='Nutzer', index=False)"
   ]
  },
  {
   "cell_type": "code",
   "execution_count": null,
   "metadata": {},
   "outputs": [],
   "source": []
  },
  {
   "cell_type": "code",
   "execution_count": 647,
   "metadata": {},
   "outputs": [],
   "source": [
    "user_individual_data = followers_complete[[\"user_Handle\", \"user_Name\", \"Scale_Diff\"]].groupby([\"user_Handle\", \"user_Name\"]).sum().reset_index()\n",
    "user_individual_data[\"Count\"] = followers_complete[[\"user_Handle\", \"Scale_Diff\"]].groupby([\"user_Handle\"]).count().reset_index()[\"Scale_Diff\"]\n",
    "user_individual_data[\"Distance_of_Parties\"] = user_individual_data[\"Scale_Diff\"] / user_individual_data[\"Count\"]\n",
    "\n"
   ]
  },
  {
   "cell_type": "code",
   "execution_count": 648,
   "metadata": {},
   "outputs": [],
   "source": [
    "user_individual_data = pd.merge(user_individual_data,\n",
    "                             followers_complete[[\"user_Handle\", \"Scale_Diff\"]][followers_complete[\"user_Party\"] != followers_complete[\"follower_Party\"]].groupby([\"user_Handle\"]).count().reset_index(),\n",
    "                             left_on=\"user_Handle\",\n",
    "                             right_on=\"user_Handle\",\n",
    "                             how=\"left\")\n"
   ]
  },
  {
   "cell_type": "code",
   "execution_count": 649,
   "metadata": {},
   "outputs": [],
   "source": [
    "user_individual_data.columns = [\"user_Handle\", \"user_Name\", \"Distance_Total\", \"Count\", \"Distance_of_Parties\", \"Amount_of_Foreign_Users\"]\n",
    "                                "
   ]
  },
  {
   "cell_type": "code",
   "execution_count": 650,
   "metadata": {},
   "outputs": [],
   "source": [
    "user_individual_data[\"Share_of_Foreign_Users\"] = user_individual_data[\"Amount_of_Foreign_Users\"] / user_individual_data[\"Count\"]"
   ]
  },
  {
   "cell_type": "code",
   "execution_count": 651,
   "metadata": {},
   "outputs": [
    {
     "data": {
      "text/html": [
       "<div>\n",
       "<style scoped>\n",
       "    .dataframe tbody tr th:only-of-type {\n",
       "        vertical-align: middle;\n",
       "    }\n",
       "\n",
       "    .dataframe tbody tr th {\n",
       "        vertical-align: top;\n",
       "    }\n",
       "\n",
       "    .dataframe thead th {\n",
       "        text-align: right;\n",
       "    }\n",
       "</style>\n",
       "<table border=\"1\" class=\"dataframe\">\n",
       "  <thead>\n",
       "    <tr style=\"text-align: right;\">\n",
       "      <th></th>\n",
       "      <th>user_Handle</th>\n",
       "      <th>user_Name</th>\n",
       "      <th>Distance_Total</th>\n",
       "      <th>Count</th>\n",
       "      <th>Distance_of_Parties</th>\n",
       "      <th>Amount_of_Foreign_Users</th>\n",
       "      <th>Share_of_Foreign_Users</th>\n",
       "    </tr>\n",
       "  </thead>\n",
       "  <tbody>\n",
       "    <tr>\n",
       "      <th>77</th>\n",
       "      <td>landoltmartin</td>\n",
       "      <td>Martin Landolt</td>\n",
       "      <td>255</td>\n",
       "      <td>95</td>\n",
       "      <td>2.684211</td>\n",
       "      <td>89.0</td>\n",
       "      <td>0.936842</td>\n",
       "    </tr>\n",
       "    <tr>\n",
       "      <th>24</th>\n",
       "      <td>bglaettli</td>\n",
       "      <td>Balthasar Glättli</td>\n",
       "      <td>254</td>\n",
       "      <td>93</td>\n",
       "      <td>2.731183</td>\n",
       "      <td>84.0</td>\n",
       "      <td>0.903226</td>\n",
       "    </tr>\n",
       "    <tr>\n",
       "      <th>20</th>\n",
       "      <td>beatflach</td>\n",
       "      <td>Beat Flach</td>\n",
       "      <td>223</td>\n",
       "      <td>88</td>\n",
       "      <td>2.534091</td>\n",
       "      <td>83.0</td>\n",
       "      <td>0.943182</td>\n",
       "    </tr>\n",
       "    <tr>\n",
       "      <th>31</th>\n",
       "      <td>christamarkwald</td>\n",
       "      <td>Christa Markwalder</td>\n",
       "      <td>318</td>\n",
       "      <td>96</td>\n",
       "      <td>3.312500</td>\n",
       "      <td>79.0</td>\n",
       "      <td>0.822917</td>\n",
       "    </tr>\n",
       "    <tr>\n",
       "      <th>37</th>\n",
       "      <td>cwasi</td>\n",
       "      <td>Christian Wasserfallen</td>\n",
       "      <td>288</td>\n",
       "      <td>95</td>\n",
       "      <td>3.031579</td>\n",
       "      <td>76.0</td>\n",
       "      <td>0.800000</td>\n",
       "    </tr>\n",
       "    <tr>\n",
       "      <th>72</th>\n",
       "      <td>juerg_grossen</td>\n",
       "      <td>Jürg Grossen</td>\n",
       "      <td>192</td>\n",
       "      <td>78</td>\n",
       "      <td>2.461538</td>\n",
       "      <td>73.0</td>\n",
       "      <td>0.935897</td>\n",
       "    </tr>\n",
       "    <tr>\n",
       "      <th>23</th>\n",
       "      <td>bernhardguhl</td>\n",
       "      <td>Bernhard Guhl</td>\n",
       "      <td>204</td>\n",
       "      <td>76</td>\n",
       "      <td>2.684211</td>\n",
       "      <td>70.0</td>\n",
       "      <td>0.921053</td>\n",
       "    </tr>\n",
       "    <tr>\n",
       "      <th>10</th>\n",
       "      <td>alinetrede</td>\n",
       "      <td>Aline Trede</td>\n",
       "      <td>209</td>\n",
       "      <td>75</td>\n",
       "      <td>2.786667</td>\n",
       "      <td>67.0</td>\n",
       "      <td>0.893333</td>\n",
       "    </tr>\n",
       "    <tr>\n",
       "      <th>17</th>\n",
       "      <td>bastiengirod</td>\n",
       "      <td>Bastien Girod</td>\n",
       "      <td>178</td>\n",
       "      <td>72</td>\n",
       "      <td>2.472222</td>\n",
       "      <td>63.0</td>\n",
       "      <td>0.875000</td>\n",
       "    </tr>\n",
       "    <tr>\n",
       "      <th>105</th>\n",
       "      <td>natalierickli</td>\n",
       "      <td>Natalie Rickli</td>\n",
       "      <td>392</td>\n",
       "      <td>83</td>\n",
       "      <td>4.722892</td>\n",
       "      <td>63.0</td>\n",
       "      <td>0.759036</td>\n",
       "    </tr>\n",
       "  </tbody>\n",
       "</table>\n",
       "</div>"
      ],
      "text/plain": [
       "         user_Handle               user_Name  Distance_Total  Count  \\\n",
       "77     landoltmartin          Martin Landolt             255     95   \n",
       "24         bglaettli       Balthasar Glättli             254     93   \n",
       "20         beatflach              Beat Flach             223     88   \n",
       "31   christamarkwald      Christa Markwalder             318     96   \n",
       "37             cwasi  Christian Wasserfallen             288     95   \n",
       "72     juerg_grossen            Jürg Grossen             192     78   \n",
       "23      bernhardguhl           Bernhard Guhl             204     76   \n",
       "10        alinetrede             Aline Trede             209     75   \n",
       "17      bastiengirod           Bastien Girod             178     72   \n",
       "105    natalierickli          Natalie Rickli             392     83   \n",
       "\n",
       "     Distance_of_Parties  Amount_of_Foreign_Users  Share_of_Foreign_Users  \n",
       "77              2.684211                     89.0                0.936842  \n",
       "24              2.731183                     84.0                0.903226  \n",
       "20              2.534091                     83.0                0.943182  \n",
       "31              3.312500                     79.0                0.822917  \n",
       "37              3.031579                     76.0                0.800000  \n",
       "72              2.461538                     73.0                0.935897  \n",
       "23              2.684211                     70.0                0.921053  \n",
       "10              2.786667                     67.0                0.893333  \n",
       "17              2.472222                     63.0                0.875000  \n",
       "105             4.722892                     63.0                0.759036  "
      ]
     },
     "execution_count": 651,
     "metadata": {},
     "output_type": "execute_result"
    }
   ],
   "source": [
    "user_individual_data.sort_values(by=['Amount_of_Foreign_Users'], ascending=False)[:10]"
   ]
  },
  {
   "cell_type": "code",
   "execution_count": 652,
   "metadata": {},
   "outputs": [
    {
     "name": "stderr",
     "output_type": "stream",
     "text": [
      "/Users/sco/miniconda3/lib/python3.7/site-packages/ipykernel_launcher.py:3: UserWarning: Boolean Series key will be reindexed to match DataFrame index.\n",
      "  This is separate from the ipykernel package so we can avoid doing imports until\n"
     ]
    }
   ],
   "source": [
    "## Top- und Flop-10 vorbereiten\n",
    "user_individual_data_top_10 = user_individual_data.sort_values(by=['Amount_of_Foreign_Users'], ascending=False)[:10][[\"user_Name\", \"Count\", \"Amount_of_Foreign_Users\", \"Share_of_Foreign_Users\"]]\n",
    "user_individual_data_flop_10 = user_individual_data.sort_values(by=['Amount_of_Foreign_Users'], ascending=True)[[\"user_Name\", \"Count\", \"Amount_of_Foreign_Users\", \"Share_of_Foreign_Users\"]][user_individual_data.Count > 10][:10]\n"
   ]
  },
  {
   "cell_type": "code",
   "execution_count": null,
   "metadata": {},
   "outputs": [],
   "source": []
  },
  {
   "cell_type": "code",
   "execution_count": 653,
   "metadata": {},
   "outputs": [],
   "source": [
    "follower_individual_data = followers_complete[[\"follower_Handle\", \"follower_Name\", \"Scale_Diff\"]].groupby([\"follower_Handle\", \"follower_Name\"]).sum().reset_index()\n",
    "follower_individual_data[\"Count\"] = followers_complete[[\"follower_Handle\", \"Scale_Diff\"]].groupby([\"follower_Handle\"]).count().reset_index()[\"Scale_Diff\"]\n",
    "follower_individual_data[\"Distance_of_Parties\"] = follower_individual_data[\"Scale_Diff\"] / follower_individual_data[\"Count\"]\n"
   ]
  },
  {
   "cell_type": "code",
   "execution_count": 654,
   "metadata": {},
   "outputs": [],
   "source": [
    "follower_individual_data = pd.merge(follower_individual_data,\n",
    "                             followers_complete[[\"follower_Handle\", \"Scale_Diff\"]][followers_complete[\"user_Party\"] != followers_complete[\"follower_Party\"]].groupby([\"follower_Handle\"]).count().reset_index(),\n",
    "                             left_on=\"follower_Handle\",\n",
    "                             right_on=\"follower_Handle\",\n",
    "                             how=\"left\")\n"
   ]
  },
  {
   "cell_type": "code",
   "execution_count": 655,
   "metadata": {},
   "outputs": [],
   "source": [
    "follower_individual_data.columns = [\"follower_Handle\", \"follower_Name\", \"Distance_Total\", \"Count\", \"Distance_of_Parties\", \"Amount_of_Foreign_Users\"]"
   ]
  },
  {
   "cell_type": "code",
   "execution_count": 656,
   "metadata": {},
   "outputs": [],
   "source": [
    "follower_individual_data[\"Share_of_Foreign_Users\"] = follower_individual_data[\"Amount_of_Foreign_Users\"] / follower_individual_data[\"Count\"]"
   ]
  },
  {
   "cell_type": "code",
   "execution_count": 657,
   "metadata": {},
   "outputs": [
    {
     "data": {
      "text/html": [
       "<div>\n",
       "<style scoped>\n",
       "    .dataframe tbody tr th:only-of-type {\n",
       "        vertical-align: middle;\n",
       "    }\n",
       "\n",
       "    .dataframe tbody tr th {\n",
       "        vertical-align: top;\n",
       "    }\n",
       "\n",
       "    .dataframe thead th {\n",
       "        text-align: right;\n",
       "    }\n",
       "</style>\n",
       "<table border=\"1\" class=\"dataframe\">\n",
       "  <thead>\n",
       "    <tr style=\"text-align: right;\">\n",
       "      <th></th>\n",
       "      <th>follower_Handle</th>\n",
       "      <th>follower_Name</th>\n",
       "      <th>Distance_Total</th>\n",
       "      <th>Count</th>\n",
       "      <th>Distance_of_Parties</th>\n",
       "      <th>Amount_of_Foreign_Users</th>\n",
       "      <th>Share_of_Foreign_Users</th>\n",
       "    </tr>\n",
       "  </thead>\n",
       "  <tbody>\n",
       "    <tr>\n",
       "      <th>17</th>\n",
       "      <td>beatflach</td>\n",
       "      <td>Beat Flach</td>\n",
       "      <td>441</td>\n",
       "      <td>145</td>\n",
       "      <td>3.041379</td>\n",
       "      <td>140.0</td>\n",
       "      <td>0.965517</td>\n",
       "    </tr>\n",
       "    <tr>\n",
       "      <th>33</th>\n",
       "      <td>cwasi</td>\n",
       "      <td>Christian Wasserfallen</td>\n",
       "      <td>457</td>\n",
       "      <td>146</td>\n",
       "      <td>3.130137</td>\n",
       "      <td>122.0</td>\n",
       "      <td>0.835616</td>\n",
       "    </tr>\n",
       "    <tr>\n",
       "      <th>20</th>\n",
       "      <td>bernhardguhl</td>\n",
       "      <td>Bernhard Guhl</td>\n",
       "      <td>346</td>\n",
       "      <td>121</td>\n",
       "      <td>2.859504</td>\n",
       "      <td>115.0</td>\n",
       "      <td>0.950413</td>\n",
       "    </tr>\n",
       "    <tr>\n",
       "      <th>130</th>\n",
       "      <td>thierryburkart</td>\n",
       "      <td>Thierry Burkart</td>\n",
       "      <td>374</td>\n",
       "      <td>116</td>\n",
       "      <td>3.224138</td>\n",
       "      <td>95.0</td>\n",
       "      <td>0.818966</td>\n",
       "    </tr>\n",
       "    <tr>\n",
       "      <th>79</th>\n",
       "      <td>m_aebischer</td>\n",
       "      <td>Matthias Aebischer</td>\n",
       "      <td>495</td>\n",
       "      <td>129</td>\n",
       "      <td>3.837209</td>\n",
       "      <td>92.0</td>\n",
       "      <td>0.713178</td>\n",
       "    </tr>\n",
       "    <tr>\n",
       "      <th>29</th>\n",
       "      <td>christianlevrat</td>\n",
       "      <td>Christian Levrat</td>\n",
       "      <td>504</td>\n",
       "      <td>123</td>\n",
       "      <td>4.097561</td>\n",
       "      <td>88.0</td>\n",
       "      <td>0.715447</td>\n",
       "    </tr>\n",
       "    <tr>\n",
       "      <th>70</th>\n",
       "      <td>kathrinbertschy</td>\n",
       "      <td>Kathrin Bertschy</td>\n",
       "      <td>263</td>\n",
       "      <td>93</td>\n",
       "      <td>2.827957</td>\n",
       "      <td>88.0</td>\n",
       "      <td>0.946237</td>\n",
       "    </tr>\n",
       "    <tr>\n",
       "      <th>59</th>\n",
       "      <td>hhiltpold</td>\n",
       "      <td>Hugues Hiltpold</td>\n",
       "      <td>333</td>\n",
       "      <td>101</td>\n",
       "      <td>3.297030</td>\n",
       "      <td>82.0</td>\n",
       "      <td>0.811881</td>\n",
       "    </tr>\n",
       "    <tr>\n",
       "      <th>11</th>\n",
       "      <td>b_haeberli</td>\n",
       "      <td>Brigitte Häberli-Koller</td>\n",
       "      <td>256</td>\n",
       "      <td>102</td>\n",
       "      <td>2.509804</td>\n",
       "      <td>78.0</td>\n",
       "      <td>0.764706</td>\n",
       "    </tr>\n",
       "    <tr>\n",
       "      <th>27</th>\n",
       "      <td>christamarkwald</td>\n",
       "      <td>Christa Markwalder</td>\n",
       "      <td>300</td>\n",
       "      <td>93</td>\n",
       "      <td>3.225806</td>\n",
       "      <td>76.0</td>\n",
       "      <td>0.817204</td>\n",
       "    </tr>\n",
       "  </tbody>\n",
       "</table>\n",
       "</div>"
      ],
      "text/plain": [
       "     follower_Handle            follower_Name  Distance_Total  Count  \\\n",
       "17         beatflach               Beat Flach             441    145   \n",
       "33             cwasi   Christian Wasserfallen             457    146   \n",
       "20      bernhardguhl            Bernhard Guhl             346    121   \n",
       "130   thierryburkart          Thierry Burkart             374    116   \n",
       "79       m_aebischer       Matthias Aebischer             495    129   \n",
       "29   christianlevrat         Christian Levrat             504    123   \n",
       "70   kathrinbertschy         Kathrin Bertschy             263     93   \n",
       "59         hhiltpold          Hugues Hiltpold             333    101   \n",
       "11        b_haeberli  Brigitte Häberli-Koller             256    102   \n",
       "27   christamarkwald       Christa Markwalder             300     93   \n",
       "\n",
       "     Distance_of_Parties  Amount_of_Foreign_Users  Share_of_Foreign_Users  \n",
       "17              3.041379                    140.0                0.965517  \n",
       "33              3.130137                    122.0                0.835616  \n",
       "20              2.859504                    115.0                0.950413  \n",
       "130             3.224138                     95.0                0.818966  \n",
       "79              3.837209                     92.0                0.713178  \n",
       "29              4.097561                     88.0                0.715447  \n",
       "70              2.827957                     88.0                0.946237  \n",
       "59              3.297030                     82.0                0.811881  \n",
       "11              2.509804                     78.0                0.764706  \n",
       "27              3.225806                     76.0                0.817204  "
      ]
     },
     "execution_count": 657,
     "metadata": {},
     "output_type": "execute_result"
    }
   ],
   "source": [
    "follower_individual_data.sort_values(by=['Amount_of_Foreign_Users'], ascending=False)[:10]"
   ]
  },
  {
   "cell_type": "code",
   "execution_count": 658,
   "metadata": {},
   "outputs": [
    {
     "name": "stderr",
     "output_type": "stream",
     "text": [
      "/Users/sco/miniconda3/lib/python3.7/site-packages/ipykernel_launcher.py:3: UserWarning: Boolean Series key will be reindexed to match DataFrame index.\n",
      "  This is separate from the ipykernel package so we can avoid doing imports until\n"
     ]
    }
   ],
   "source": [
    "## Top- und Flop-10 vorbereiten\n",
    "follower_individual_data_top_10 = follower_individual_data.sort_values(by=['Amount_of_Foreign_Users'], ascending=False)[:10][[\"follower_Name\", \"Count\", \"Amount_of_Foreign_Users\", \"Share_of_Foreign_Users\"]]\n",
    "follower_individual_data_flop_10 = follower_individual_data.sort_values(by=['Amount_of_Foreign_Users'], ascending=True)[[\"follower_Name\", \"Count\", \"Amount_of_Foreign_Users\", \"Share_of_Foreign_Users\"]][follower_individual_data.Count > 10][:10]"
   ]
  },
  {
   "cell_type": "code",
   "execution_count": 659,
   "metadata": {},
   "outputs": [],
   "source": [
    "## Tabelle der Nutzer exportieren\n",
    "with pd.ExcelWriter('data/Rangliste_Parlamentarier.xlsx') as writer:\n",
    "    follower_individual_data_top_10.to_excel(writer, sheet_name='Follower_Top_10', index=False)\n",
    "    follower_individual_data_flop_10.to_excel(writer, sheet_name='Follower_Flop_10', index=False)\n",
    "    user_individual_data_top_10.to_excel(writer, sheet_name='Nutzer_Top_10', index=False)\n",
    "    user_individual_data_flop_10.to_excel(writer, sheet_name='Nutzer_Flop_10', index=False)"
   ]
  },
  {
   "cell_type": "code",
   "execution_count": null,
   "metadata": {},
   "outputs": [],
   "source": []
  },
  {
   "cell_type": "code",
   "execution_count": null,
   "metadata": {},
   "outputs": [],
   "source": []
  },
  {
   "cell_type": "code",
   "execution_count": 260,
   "metadata": {},
   "outputs": [
    {
     "name": "stdout",
     "output_type": "stream",
     "text": [
      "WARNING *** file size (139136) not 512 + multiple of sector size (512)\n"
     ]
    }
   ],
   "source": [
    "parlament_2 = pd.read_excel(\"data/mitgliederlist-pc.xls\")"
   ]
  },
  {
   "cell_type": "code",
   "execution_count": 262,
   "metadata": {},
   "outputs": [],
   "source": [
    "names = parlament_2[[\"Vorname\", \"Name\"]]"
   ]
  },
  {
   "cell_type": "code",
   "execution_count": 264,
   "metadata": {
    "collapsed": true
   },
   "outputs": [
    {
     "name": "stderr",
     "output_type": "stream",
     "text": [
      "/Users/sco/miniconda3/lib/python3.7/site-packages/ipykernel_launcher.py:1: SettingWithCopyWarning: \n",
      "A value is trying to be set on a copy of a slice from a DataFrame.\n",
      "Try using .loc[row_indexer,col_indexer] = value instead\n",
      "\n",
      "See the caveats in the documentation: http://pandas.pydata.org/pandas-docs/stable/indexing.html#indexing-view-versus-copy\n",
      "  \"\"\"Entry point for launching an IPython kernel.\n"
     ]
    }
   ],
   "source": [
    "names[\"Full_Name\"] = names[\"Vorname\"] + \" \" + names[\"Name\"]"
   ]
  },
  {
   "cell_type": "code",
   "execution_count": 281,
   "metadata": {},
   "outputs": [
    {
     "data": {
      "text/plain": [
       "{'Andrea Gmür-Schönenberger',\n",
       " 'Andrea Martina Geissbühler',\n",
       " 'Gregor Rutz',\n",
       " 'Jean-Pierre Grin',\n",
       " 'Matthias Samuel Jauslin',\n",
       " 'Mike Egger',\n",
       " 'Niklaus-Samuel Gugger',\n",
       " 'Pascale Bruderer Wyss',\n",
       " 'Philipp Matthias Bregy',\n",
       " 'Ruth Humbel',\n",
       " 'Sandra Sollberger'}"
      ]
     },
     "execution_count": 281,
     "metadata": {},
     "output_type": "execute_result"
    }
   ],
   "source": [
    "(set(names[\"Full_Name\"]) - set(twitter_info_edited.name))"
   ]
  },
  {
   "cell_type": "code",
   "execution_count": 282,
   "metadata": {},
   "outputs": [
    {
     "data": {
      "text/plain": [
       "{'Andrea Geissbühler',\n",
       " 'Andrea Gmür',\n",
       " 'Gregor A. Rutz',\n",
       " 'Jean-Pierre Grin-Hofmann',\n",
       " 'Matthias Jauslin',\n",
       " 'Nik Gugger',\n",
       " 'Pascale Bruderer',\n",
       " 'Rebecca Ruiz',\n",
       " 'Ruth Humbel Näf',\n",
       " 'Sandra Sollberger-Muff'}"
      ]
     },
     "execution_count": 282,
     "metadata": {},
     "output_type": "execute_result"
    }
   ],
   "source": [
    "(set(twitter_info_edited.name) - set(names[\"Full_Name\"]))"
   ]
  },
  {
   "cell_type": "code",
   "execution_count": null,
   "metadata": {},
   "outputs": [],
   "source": []
  },
  {
   "cell_type": "code",
   "execution_count": null,
   "metadata": {},
   "outputs": [],
   "source": []
  }
 ],
 "metadata": {
  "kernelspec": {
   "display_name": "Python 3",
   "language": "python",
   "name": "python3"
  },
  "language_info": {
   "codemirror_mode": {
    "name": "ipython",
    "version": 3
   },
   "file_extension": ".py",
   "mimetype": "text/x-python",
   "name": "python",
   "nbconvert_exporter": "python",
   "pygments_lexer": "ipython3",
   "version": "3.7.2"
  }
 },
 "nbformat": 4,
 "nbformat_minor": 2
}
