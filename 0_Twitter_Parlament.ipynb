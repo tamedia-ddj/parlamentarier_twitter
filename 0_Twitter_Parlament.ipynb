{
 "cells": [
  {
   "cell_type": "markdown",
   "metadata": {},
   "source": [
    "# Twitter Beziehungen im Parlament ermitteln"
   ]
  },
  {
   "cell_type": "code",
   "execution_count": 4,
   "metadata": {},
   "outputs": [],
   "source": [
    "### import libraries\n",
    "import pandas as pd\n",
    "import numpy as np\n",
    "import math\n",
    "import requests\n",
    "from bs4 import BeautifulSoup as bs\n",
    "import time"
   ]
  },
  {
   "cell_type": "markdown",
   "metadata": {},
   "source": [
    "---"
   ]
  },
  {
   "cell_type": "code",
   "execution_count": 142,
   "metadata": {},
   "outputs": [],
   "source": [
    "### create function to find twitter-account with google query\n",
    "def google_results(name, party):\n",
    "    \n",
    "    url = 'https://google.com/search?q={}+{}+twitter'.format(name.replace(\" \", \"+\"), party)\n",
    "    # ...wait for it....\n",
    "    time.sleep(1)\n",
    "    \n",
    "    response = requests.get(url)\n",
    "    soup = bs(response.text, 'html.parser')\n",
    "    twitter_handle = soup.cite.text\n",
    "    \n",
    "    return twitter_handle"
   ]
  },
  {
   "cell_type": "markdown",
   "metadata": {},
   "source": [
    "---"
   ]
  },
  {
   "cell_type": "code",
   "execution_count": 133,
   "metadata": {},
   "outputs": [],
   "source": [
    "### Download information from Wikipedia and combine in new DataFrame\n",
    "nationalrat = pd.read_html(\"https://de.wikipedia.org/wiki/Liste_der_Mitglieder_des_Schweizer_Nationalrats_in_der_50._Legislaturperiode\")[0]\n",
    "staenderat = pd.read_html(\"https://de.wikipedia.org/wiki/Liste_der_Mitglieder_des_Schweizer_St%C3%A4nderats_in_der_50._Legislaturperiode\")[0]"
   ]
  },
  {
   "cell_type": "code",
   "execution_count": 134,
   "metadata": {},
   "outputs": [],
   "source": [
    "nationalrat = nationalrat[[\"Name\", \"Partei\", \"Kanton\"]]\n",
    "nationalrat[\"Rat\"] = \"nr\""
   ]
  },
  {
   "cell_type": "code",
   "execution_count": 135,
   "metadata": {},
   "outputs": [],
   "source": [
    "staenderat = staenderat[[\"Name\", \"Partei\", \"Kanton\"]]\n",
    "staenderat[\"Rat\"] = \"sr\""
   ]
  },
  {
   "cell_type": "code",
   "execution_count": 138,
   "metadata": {
    "scrolled": true
   },
   "outputs": [],
   "source": [
    "parlament = nationalrat.append(staenderat).reset_index().drop(columns=[\"index\"])"
   ]
  },
  {
   "cell_type": "markdown",
   "metadata": {},
   "source": [
    "---"
   ]
  },
  {
   "cell_type": "code",
   "execution_count": 143,
   "metadata": {},
   "outputs": [],
   "source": [
    "### Use Google to find Twitter-Page\n",
    "twitter_info_list = []\n",
    "for idx, row in parlament.iterrows():\n",
    "    twitter_info_list.append([row[\"Name\"], row[\"Partei\"], google_results(row[\"Name\"], row[\"Partei\"])])"
   ]
  },
  {
   "cell_type": "code",
   "execution_count": 144,
   "metadata": {},
   "outputs": [],
   "source": [
    "twitter_info = pd.DataFrame(twitter_info_list)\n",
    "twitter_info.columns = [\"name\", \"party\", \"url\"]"
   ]
  },
  {
   "cell_type": "code",
   "execution_count": 146,
   "metadata": {},
   "outputs": [],
   "source": [
    "### Extract Twitter-Handle from URL\n",
    "def extract_handle(url):\n",
    "    if (url.find(\"twitter\") > -1):\n",
    "        if len(url.split('/')) == 4:\n",
    "            return(url.split('/')[3].split('?')[0])\n",
    "        "
   ]
  },
  {
   "cell_type": "code",
   "execution_count": 147,
   "metadata": {},
   "outputs": [],
   "source": [
    "twitter_info[\"twitter_handle\"] = twitter_info.url.apply(extract_handle)"
   ]
  },
  {
   "cell_type": "code",
   "execution_count": 149,
   "metadata": {},
   "outputs": [],
   "source": [
    "### export for manual corrections\n",
    "twitter_info.to_csv(\"data/twitter_accounts_2019.csv\")"
   ]
  },
  {
   "cell_type": "code",
   "execution_count": 14,
   "metadata": {},
   "outputs": [],
   "source": [
    "### import corrected data\n",
    "twitter_info_edited = pd.read_csv(\"data/twitter_accounts_2019_edited.csv\", index_col=0)"
   ]
  },
  {
   "cell_type": "markdown",
   "metadata": {},
   "source": [
    "---"
   ]
  },
  {
   "cell_type": "markdown",
   "metadata": {},
   "source": [
    "To be save: Compare information from Wikipedia with official list of politicians from parlament.ch\n",
    "\n",
    "In case of differences: Edit csv and reimport"
   ]
  },
  {
   "cell_type": "code",
   "execution_count": 260,
   "metadata": {},
   "outputs": [
    {
     "name": "stdout",
     "output_type": "stream",
     "text": [
      "WARNING *** file size (139136) not 512 + multiple of sector size (512)\n"
     ]
    }
   ],
   "source": [
    "parlament_2 = pd.read_excel(\"data/mitgliederlist-pc.xls\")\n",
    "names = parlament_2[[\"Vorname\", \"Name\", \"Fraktion\"]]\n",
    "names[\"Full_Name\"] = names[\"Vorname\"] + \" \" + names[\"Name\"]"
   ]
  },
  {
   "cell_type": "code",
   "execution_count": 281,
   "metadata": {
    "scrolled": true
   },
   "outputs": [
    {
     "data": {
      "text/plain": [
       "{'Andrea Gmür-Schönenberger',\n",
       " 'Andrea Martina Geissbühler',\n",
       " 'Gregor Rutz',\n",
       " 'Jean-Pierre Grin',\n",
       " 'Matthias Samuel Jauslin',\n",
       " 'Mike Egger',\n",
       " 'Niklaus-Samuel Gugger',\n",
       " 'Pascale Bruderer Wyss',\n",
       " 'Philipp Matthias Bregy',\n",
       " 'Ruth Humbel',\n",
       " 'Sandra Sollberger'}"
      ]
     },
     "execution_count": 281,
     "metadata": {},
     "output_type": "execute_result"
    }
   ],
   "source": [
    "print(set(names[\"Full_Name\"]) - set(twitter_info_edited.name))"
   ]
  },
  {
   "cell_type": "code",
   "execution_count": 282,
   "metadata": {
    "scrolled": false
   },
   "outputs": [
    {
     "data": {
      "text/plain": [
       "{'Andrea Geissbühler',\n",
       " 'Andrea Gmür',\n",
       " 'Gregor A. Rutz',\n",
       " 'Jean-Pierre Grin-Hofmann',\n",
       " 'Matthias Jauslin',\n",
       " 'Nik Gugger',\n",
       " 'Pascale Bruderer',\n",
       " 'Rebecca Ruiz',\n",
       " 'Ruth Humbel Näf',\n",
       " 'Sandra Sollberger-Muff'}"
      ]
     },
     "execution_count": 282,
     "metadata": {},
     "output_type": "execute_result"
    }
   ],
   "source": [
    "print(set(twitter_info_edited.name) - set(names[\"Full_Name\"]))"
   ]
  },
  {
   "cell_type": "markdown",
   "metadata": {},
   "source": [
    "---"
   ]
  },
  {
   "cell_type": "code",
   "execution_count": 15,
   "metadata": {},
   "outputs": [],
   "source": [
    "### Keep only users with Twitter-Account\n",
    "twitter_users = twitter_info_edited[(twitter_info_edited['twitter_handle'].notnull())]"
   ]
  },
  {
   "cell_type": "code",
   "execution_count": 16,
   "metadata": {
    "scrolled": true
   },
   "outputs": [],
   "source": [
    "### Clean and save the data\n",
    "twitter_users = twitter_users.drop(columns = [\"edited\"])\n",
    "twitter_users.to_pickle(\"data/twitter_users.pkl\")"
   ]
  },
  {
   "cell_type": "markdown",
   "metadata": {},
   "source": [
    "---"
   ]
  },
  {
   "cell_type": "code",
   "execution_count": 1,
   "metadata": {},
   "outputs": [],
   "source": [
    "import tweepy"
   ]
  },
  {
   "cell_type": "code",
   "execution_count": 191,
   "metadata": {},
   "outputs": [],
   "source": [
    "### Initialize Twitter-API\n",
    "consumer_key = \"QiFcycH0Dkh2qUMKiEz6KagWy\"\n",
    "consumer_secret = \"RJXtTYRe0lI47SXvTVcQZxnihOM7CQW88O9BptgWRWVOGQIlKU\"\n",
    "access_token = \"20507198-nXLoFruaOgKrQZiorgJ8SJcISI9DLu1DETgHiiAWq\"\n",
    "access_token_secret = \"YO2VQm3frJpVSCcjXFSGynQHeBMbKi3kjj1IkvKcXE3XA\"\n",
    "auth = tweepy.OAuthHandler(consumer_key, consumer_secret)\n",
    "auth.set_access_token(access_token, access_token_secret)"
   ]
  },
  {
   "cell_type": "code",
   "execution_count": 198,
   "metadata": {},
   "outputs": [],
   "source": [
    "api = tweepy.API(auth)"
   ]
  },
  {
   "cell_type": "code",
   "execution_count": 295,
   "metadata": {},
   "outputs": [],
   "source": [
    "### Collect User-Ids of Twitter-Users \n",
    "def get_twitter_id(username):\n",
    "    user = api.get_user(username)\n",
    "    return user._json[\"id\"]\n",
    "    \n",
    "twitter_users[\"user_id\"] = twitter_users.twitter_handle.apply(get_twitter_id)\n",
    "twitter_users[\"user_id\"] = twitter_users[\"user_id\"].astype(str)"
   ]
  },
  {
   "cell_type": "code",
   "execution_count": 350,
   "metadata": {
    "scrolled": true
   },
   "outputs": [],
   "source": [
    "### Create new DF to store Network-Data\n",
    "follower_list = pd.DataFrame(columns=[\"Name\", \"Party\", \"Handle\", \"Twitter_ID\", \"Follower_ID\"])"
   ]
  },
  {
   "cell_type": "code",
   "execution_count": 452,
   "metadata": {
    "collapsed": true
   },
   "outputs": [
    {
     "name": "stdout",
     "output_type": "stream",
     "text": [
      "enussbi\n",
      "paganini_nr\n",
      "robipanta\n",
      "gerhardpfister\n",
      "valerie_piller\n",
      "hpportmann\n",
      "quadrantir\n",
      "lorenzquadri\n",
      "fregazzi\n",
      "lukasreimann\n",
      "maximilian_rei\n",
      "mathiasreynard\n",
      "natalierickli\n",
      "kathyriklin\n",
      "jfrime\n",
      "roduitbenjamin\n",
      "marcoromanoppd\n",
      "regularytz\n",
      "wernersalzmann\n",
      "regine_sauter\n",
      "schenkersilvia\n",
      "schneedani67\n",
      "elisabeth_s_s\n",
      "uschneiderschue\n",
      "seilergraf\n",
      "h_siegenthaler\n",
      "carlosommaruga\n",
      "luzistamm\n",
      "babasteinemann\n",
      "adelethorens\n",
      "mtoengi\n",
      "manueltornare\n",
      "alinetrede\n",
      "m_tuena\n",
      "hansuelivogt\n",
      "cwasi\n",
      "fwasserfallen\n",
      "laurentwehrli\n",
      "cedricwermuth\n",
      "adrianwuethrich\n",
      "zac1967\n",
      "pirminbischof\n",
      "pascalebruderer\n",
      "andreacaroniar\n",
      "raphaelcomtece\n",
      "robertcramer_ge\n",
      "engler_stefan\n",
      "e_ettlin\n",
      "JR_Fournier\n",
      "olifrancais\n",
      "graberkonrad\n",
      "ruedinoser\n",
      "b_haeberli\n",
      "werner_hoesli\n",
      "ClaudeJaniak\n",
      "danieljositsch\n",
      "christianlevrat\n",
      "lombardi1956\n",
      "w_luginbuehl\n",
      "damian_mueller_\n",
      "paulrechsteiner\n",
      "riederbeat\n",
      "beat_vonlanthen\n",
      "zanettiroberto\n",
      "mike_egger\n",
      "pmbregy\n"
     ]
    }
   ],
   "source": [
    "### Get Followers of each user and keep only the ones we're interested in\n",
    "for idx, row in twitter_users[].iterrows():\n",
    "    ids = []\n",
    "    for page in tweepy.Cursor(api.followers_ids, screen_name=row.twitter_handle).pages():\n",
    "        ids.extend(page)\n",
    "        time.sleep(60)\n",
    "    for follower in ids:\n",
    "        if ((twitter_users['user_id'].astype(str) == str(follower)).any()):\n",
    "            follower_list = follower_list.append(pd.DataFrame({\"Name\": row.name,\n",
    "                                                               \"Party\": row.party,\n",
    "                                                               \"Handle\": row.twitter_handle,\n",
    "                                                               \"Twitter_ID\": row.user_id,\n",
    "                                                               \"Follower_ID\": str(follower)\n",
    "                                                              }, index=[0]), ignore_index=True)\n",
    "    print(row.twitter_handle)"
   ]
  },
  {
   "cell_type": "code",
   "execution_count": 453,
   "metadata": {},
   "outputs": [],
   "source": [
    "### Save data\n",
    "follower_list.to_pickle(\"data/follower_all.pkl\")"
   ]
  },
  {
   "cell_type": "markdown",
   "metadata": {},
   "source": [
    "---"
   ]
  },
  {
   "cell_type": "code",
   "execution_count": 434,
   "metadata": {},
   "outputs": [],
   "source": [
    "### ... and read the data\n",
    "follower_list = pd.read_pickle(\"data/follower_all.pkl\")"
   ]
  },
  {
   "cell_type": "code",
   "execution_count": 455,
   "metadata": {},
   "outputs": [],
   "source": [
    "### Check again for unwanted accounts\n",
    "follower_list_red = follower_list[follower_list['Follower_ID'].isin(twitter_users['user_id'].astype(str))]"
   ]
  },
  {
   "cell_type": "code",
   "execution_count": 456,
   "metadata": {
    "scrolled": true
   },
   "outputs": [],
   "source": [
    "### Merge collected information into new DF based on Twitter-ID\n",
    "followers_complete = pd.merge(follower_list_red,\n",
    "                              twitter_users[[\"user_id\", \"name\", \"twitter_handle\", \"party\"]],\n",
    "                              left_on=\"Follower_ID\",\n",
    "                              right_on=\"user_id\",\n",
    "                              how=\"left\")"
   ]
  },
  {
   "cell_type": "code",
   "execution_count": 457,
   "metadata": {},
   "outputs": [],
   "source": [
    "# Re-Order and Clean DataFrame\n",
    "followers_complete = pd.merge(followers_complete,\n",
    "                             twitter_users[[\"name\", \"twitter_handle\"]],\n",
    "                             left_on=\"Handle\",\n",
    "                             right_on=\"twitter_handle\",\n",
    "                             how=\"left\")"
   ]
  },
  {
   "cell_type": "code",
   "execution_count": 458,
   "metadata": {},
   "outputs": [],
   "source": [
    "followers_complete = followers_complete[[\"name_y\", \"Name\", \"Party\", \"Handle\", \"Twitter_ID\", \"Follower_ID\", \"user_id\", \"name_x\", \"twitter_handle_x\", \"party\", \"twitter_handle_y\"]]\n"
   ]
  },
  {
   "cell_type": "code",
   "execution_count": 459,
   "metadata": {},
   "outputs": [],
   "source": [
    "followers_complete = followers_complete.drop(columns=[\"Name\", \"twitter_handle_y\", \"user_id\"])"
   ]
  },
  {
   "cell_type": "code",
   "execution_count": 460,
   "metadata": {},
   "outputs": [],
   "source": [
    "followers_complete.columns = [\"user_Name\", \"user_Party\", \"user_Handle\", \"user_ID\", \"follower_ID\", \"follower_Name\", \"follower_Handle\", \"follower_Party\"]"
   ]
  },
  {
   "cell_type": "code",
   "execution_count": 554,
   "metadata": {
    "collapsed": true
   },
   "outputs": [
    {
     "name": "stderr",
     "output_type": "stream",
     "text": [
      "/Users/sco/miniconda3/lib/python3.7/site-packages/ipykernel_launcher.py:2: SettingWithCopyWarning: \n",
      "A value is trying to be set on a copy of a slice from a DataFrame\n",
      "\n",
      "See the caveats in the documentation: http://pandas.pydata.org/pandas-docs/stable/indexing.html#indexing-view-versus-copy\n",
      "  \n",
      "/Users/sco/miniconda3/lib/python3.7/site-packages/ipykernel_launcher.py:3: SettingWithCopyWarning: \n",
      "A value is trying to be set on a copy of a slice from a DataFrame\n",
      "\n",
      "See the caveats in the documentation: http://pandas.pydata.org/pandas-docs/stable/indexing.html#indexing-view-versus-copy\n",
      "  This is separate from the ipykernel package so we can avoid doing imports until\n",
      "/Users/sco/miniconda3/lib/python3.7/site-packages/ipykernel_launcher.py:5: SettingWithCopyWarning: \n",
      "A value is trying to be set on a copy of a slice from a DataFrame\n",
      "\n",
      "See the caveats in the documentation: http://pandas.pydata.org/pandas-docs/stable/indexing.html#indexing-view-versus-copy\n",
      "  \"\"\"\n",
      "/Users/sco/miniconda3/lib/python3.7/site-packages/ipykernel_launcher.py:6: SettingWithCopyWarning: \n",
      "A value is trying to be set on a copy of a slice from a DataFrame\n",
      "\n",
      "See the caveats in the documentation: http://pandas.pydata.org/pandas-docs/stable/indexing.html#indexing-view-versus-copy\n",
      "  \n",
      "/Users/sco/miniconda3/lib/python3.7/site-packages/ipykernel_launcher.py:8: SettingWithCopyWarning: \n",
      "A value is trying to be set on a copy of a slice from a DataFrame\n",
      "\n",
      "See the caveats in the documentation: http://pandas.pydata.org/pandas-docs/stable/indexing.html#indexing-view-versus-copy\n",
      "  \n",
      "/Users/sco/miniconda3/lib/python3.7/site-packages/ipykernel_launcher.py:9: SettingWithCopyWarning: \n",
      "A value is trying to be set on a copy of a slice from a DataFrame\n",
      "\n",
      "See the caveats in the documentation: http://pandas.pydata.org/pandas-docs/stable/indexing.html#indexing-view-versus-copy\n",
      "  if __name__ == '__main__':\n"
     ]
    }
   ],
   "source": [
    "## Change parties to parliamentary groups\n",
    "followers_complete.user_Party[followers_complete.user_Party == \"Lega\"] = \"SVP\"\n",
    "followers_complete.follower_Party[followers_complete.follower_Party == \"Lega\"] = \"SVP\"\n",
    "\n",
    "followers_complete.user_Party[followers_complete.user_Party == \"EVP\"] = \"CVP\"\n",
    "followers_complete.follower_Party[followers_complete.follower_Party == \"EVP\"] = \"CVP\"\n",
    "\n",
    "followers_complete.user_Party[followers_complete.user_Party == \"EVP\"] = \"CVP\"\n",
    "followers_complete.follower_Party[followers_complete.follower_Party == \"EVP\"] = \"CVP\""
   ]
  },
  {
   "cell_type": "markdown",
   "metadata": {},
   "source": [
    "---"
   ]
  },
  {
   "cell_type": "code",
   "execution_count": 461,
   "metadata": {},
   "outputs": [],
   "source": [
    "### Experiment: create scale of parties an look at distances\n",
    "def party_scale(party):\n",
    "    scale = {\n",
    "        \"sp\": 1,\n",
    "        \"gps\": 2,\n",
    "        \"evp\": 3,\n",
    "        \"glp\": 4,\n",
    "        \"cvp\": 5,\n",
    "        \"bdp\": 6,\n",
    "        \"fdp\": 7,\n",
    "        \"lega\": 8,\n",
    "        \"mcg\": 9,\n",
    "        \"svp\": 10\n",
    "    }\n",
    "    return scale[party.lower()]"
   ]
  },
  {
   "cell_type": "code",
   "execution_count": 462,
   "metadata": {},
   "outputs": [],
   "source": [
    "followers_complete[\"user_Party_Scale\"] = followers_complete[\"user_Party\"].apply(party_scale)\n",
    "followers_complete[\"follower_Party_Scale\"] = followers_complete[\"follower_Party\"].apply(party_scale)"
   ]
  },
  {
   "cell_type": "code",
   "execution_count": 463,
   "metadata": {},
   "outputs": [],
   "source": [
    "followers_complete[\"Scale_Diff\"] = abs(followers_complete[\"user_Party_Scale\"] - followers_complete[\"follower_Party_Scale\"])"
   ]
  },
  {
   "cell_type": "markdown",
   "metadata": {},
   "source": [
    "---"
   ]
  },
  {
   "cell_type": "code",
   "execution_count": 697,
   "metadata": {},
   "outputs": [],
   "source": [
    "### Save Data for analysis\n",
    "followers_complete.to_pickle(\"data/followers_complete.pkl\")"
   ]
  },
  {
   "cell_type": "markdown",
   "metadata": {},
   "source": [
    "---"
   ]
  }
 ],
 "metadata": {
  "kernelspec": {
   "display_name": "Python 3",
   "language": "python",
   "name": "python3"
  },
  "language_info": {
   "codemirror_mode": {
    "name": "ipython",
    "version": 3
   },
   "file_extension": ".py",
   "mimetype": "text/x-python",
   "name": "python",
   "nbconvert_exporter": "python",
   "pygments_lexer": "ipython3",
   "version": "3.7.2"
  }
 },
 "nbformat": 4,
 "nbformat_minor": 2
}
